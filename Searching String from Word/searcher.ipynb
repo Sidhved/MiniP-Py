{
 "cells": [
  {
   "cell_type": "code",
   "execution_count": 9,
   "source": [
    "!pip install textract\r\n",
    "import textract"
   ],
   "outputs": [
    {
     "output_type": "stream",
     "name": "stdout",
     "text": [
      "Collecting textract\n",
      "  Downloading textract-1.6.4.tar.gz (17 kB)\n",
      "Collecting argcomplete~=1.10.0\n",
      "  Downloading argcomplete-1.10.3-py2.py3-none-any.whl (36 kB)\n",
      "Collecting beautifulsoup4~=4.8.0\n",
      "  Downloading beautifulsoup4-4.8.2-py3-none-any.whl (106 kB)\n",
      "Requirement already satisfied: chardet==3.* in c:\\users\\dell\\anaconda3\\lib\\site-packages (from textract) (3.0.4)\n",
      "Collecting docx2txt~=0.8\n",
      "  Downloading docx2txt-0.8.tar.gz (2.8 kB)\n",
      "Collecting EbookLib==0.*\n",
      "  Downloading EbookLib-0.17.1.tar.gz (111 kB)\n",
      "Collecting extract-msg<=0.29.*\n",
      "  Downloading extract_msg-0.28.7-py2.py3-none-any.whl (69 kB)\n",
      "Collecting pdfminer.six==20191110\n",
      "  Downloading pdfminer.six-20191110-py2.py3-none-any.whl (5.6 MB)\n",
      "Collecting python-pptx~=0.6.18\n",
      "  Downloading python-pptx-0.6.19.tar.gz (9.3 MB)\n",
      "Collecting six~=1.12.0\n",
      "  Downloading six-1.12.0-py2.py3-none-any.whl (10 kB)\n",
      "Collecting SpeechRecognition~=3.8.1\n",
      "  Downloading SpeechRecognition-3.8.1-py2.py3-none-any.whl (32.8 MB)\n",
      "Requirement already satisfied: xlrd~=1.2.0 in c:\\users\\dell\\anaconda3\\lib\\site-packages (from textract) (1.2.0)\n",
      "Requirement already satisfied: soupsieve>=1.2 in c:\\users\\dell\\anaconda3\\lib\\site-packages (from beautifulsoup4~=4.8.0->textract) (2.0.1)\n",
      "Requirement already satisfied: lxml in c:\\users\\dell\\anaconda3\\lib\\site-packages (from EbookLib==0.*->textract) (4.6.1)\n",
      "Collecting compressed-rtf>=1.0.6\n",
      "  Downloading compressed_rtf-1.0.6.tar.gz (5.8 kB)\n",
      "Collecting tzlocal>=2.1\n",
      "  Downloading tzlocal-3.0-py3-none-any.whl (16 kB)\n",
      "Requirement already satisfied: olefile>=0.46 in c:\\users\\dell\\anaconda3\\lib\\site-packages (from extract-msg<=0.29.*->textract) (0.46)\n",
      "Collecting ebcdic>=1.1.1\n",
      "  Downloading ebcdic-1.1.1-py2.py3-none-any.whl (128 kB)\n",
      "Collecting imapclient==2.1.0\n",
      "  Downloading IMAPClient-2.1.0-py2.py3-none-any.whl (73 kB)\n",
      "Collecting pycryptodome\n",
      "  Downloading pycryptodome-3.10.1-cp35-abi3-win_amd64.whl (1.6 MB)\n",
      "Requirement already satisfied: sortedcontainers in c:\\users\\dell\\anaconda3\\lib\\site-packages (from pdfminer.six==20191110->textract) (2.2.2)\n",
      "Requirement already satisfied: Pillow>=3.3.2 in c:\\users\\dell\\anaconda3\\lib\\site-packages (from python-pptx~=0.6.18->textract) (8.0.1)\n",
      "Requirement already satisfied: XlsxWriter>=0.5.7 in c:\\users\\dell\\anaconda3\\lib\\site-packages (from python-pptx~=0.6.18->textract) (1.3.7)\n",
      "Collecting tzdata; platform_system == \"Windows\"\n",
      "  Downloading tzdata-2021.1-py2.py3-none-any.whl (338 kB)\n",
      "Collecting backports.zoneinfo; python_version < \"3.9\"\n",
      "  Downloading backports.zoneinfo-0.2.1-cp38-cp38-win_amd64.whl (38 kB)\n",
      "Building wheels for collected packages: textract, docx2txt, EbookLib, python-pptx, compressed-rtf\n",
      "  Building wheel for textract (setup.py): started\n",
      "  Building wheel for textract (setup.py): finished with status 'done'\n",
      "  Created wheel for textract: filename=textract-1.6.4-py3-none-any.whl size=22880 sha256=570aab5f4e25a3257e01587bc2418e84c9e9e6c673c2518f608eebd230b52fbf\n",
      "  Stored in directory: c:\\users\\dell\\appdata\\local\\pip\\cache\\wheels\\0a\\1f\\84\\cbcc7e7ac3797486650534ce9397f213e853e598243c90104c\n",
      "  Building wheel for docx2txt (setup.py): started\n",
      "  Building wheel for docx2txt (setup.py): finished with status 'done'\n",
      "  Created wheel for docx2txt: filename=docx2txt-0.8-py3-none-any.whl size=3969 sha256=80546a124aa4b35f1203ea0aed8002c70e1e825ad77117962ea9cf0334683e5d\n",
      "  Stored in directory: c:\\users\\dell\\appdata\\local\\pip\\cache\\wheels\\55\\f0\\2c\\81637d42670985178b77df6d41b9b6c6dc18c94818447414b9\n",
      "  Building wheel for EbookLib (setup.py): started\n",
      "  Building wheel for EbookLib (setup.py): finished with status 'done'\n",
      "  Created wheel for EbookLib: filename=EbookLib-0.17.1-py3-none-any.whl size=38167 sha256=648073082f5098e2c7ec77ec9098929846bd88fb637816521626e94c476684b7\n",
      "  Stored in directory: c:\\users\\dell\\appdata\\local\\pip\\cache\\wheels\\b4\\eb\\66\\00c65b5bbf31ec34329090ec9fe8c8a8d9cb7a3a3d93841386\n",
      "  Building wheel for python-pptx (setup.py): started\n",
      "  Building wheel for python-pptx (setup.py): finished with status 'done'\n",
      "  Created wheel for python-pptx: filename=python_pptx-0.6.19-py3-none-any.whl size=470164 sha256=82a80e2493dd4d1e80c74e59fcb846e1273a86353661023061a817c3f9569c46\n",
      "  Stored in directory: c:\\users\\dell\\appdata\\local\\pip\\cache\\wheels\\08\\1f\\2a\\12bd1bf90fa773eb5beea2b74311fa8cecdeb2aa0151878045\n",
      "  Building wheel for compressed-rtf (setup.py): started\n",
      "  Building wheel for compressed-rtf (setup.py): finished with status 'done'\n",
      "  Created wheel for compressed-rtf: filename=compressed_rtf-1.0.6-py3-none-any.whl size=6214 sha256=b0fad03f7aaa21f28087dc67b3082d2f32535a9c5067ea610b90eba1bc4c347a\n",
      "  Stored in directory: c:\\users\\dell\\appdata\\local\\pip\\cache\\wheels\\11\\f5\\c4\\81acab65ab073b5a3e67fd82e4b9accf3dbcf1de39c7b246ec\n",
      "Successfully built textract docx2txt EbookLib python-pptx compressed-rtf\n",
      "Installing collected packages: argcomplete, beautifulsoup4, docx2txt, six, EbookLib, compressed-rtf, tzdata, backports.zoneinfo, tzlocal, ebcdic, imapclient, extract-msg, pycryptodome, pdfminer.six, python-pptx, SpeechRecognition, textract\n",
      "  Attempting uninstall: beautifulsoup4\n",
      "    Found existing installation: beautifulsoup4 4.9.3\n",
      "    Uninstalling beautifulsoup4-4.9.3:\n",
      "      Successfully uninstalled beautifulsoup4-4.9.3\n",
      "  Attempting uninstall: six\n",
      "    Found existing installation: six 1.15.0\n",
      "    Uninstalling six-1.15.0:\n",
      "      Successfully uninstalled six-1.15.0\n",
      "Successfully installed EbookLib-0.17.1 SpeechRecognition-3.8.1 argcomplete-1.10.3 backports.zoneinfo-0.2.1 beautifulsoup4-4.8.2 compressed-rtf-1.0.6 docx2txt-0.8 ebcdic-1.1.1 extract-msg-0.28.7 imapclient-2.1.0 pdfminer.six-20191110 pycryptodome-3.10.1 python-pptx-0.6.19 six-1.12.0 textract-1.6.4 tzdata-2021.1 tzlocal-3.0\n"
     ]
    },
    {
     "output_type": "stream",
     "name": "stderr",
     "text": [
      "ERROR: After October 2020 you may experience errors when installing or updating packages. This is because pip will change the way that it resolves dependency conflicts.\n",
      "\n",
      "We recommend you use --use-feature=2020-resolver to test your packages with the new resolver before it becomes the default.\n",
      "\n",
      "tensorflow 2.5.0 requires six~=1.15.0, but you'll have six 1.12.0 which is incompatible.\n"
     ]
    }
   ],
   "metadata": {}
  },
  {
   "cell_type": "code",
   "execution_count": 10,
   "source": [
    "text = textract.process('Test.docx')\r\n",
    "text = str(text)\r\n",
    "print(text)"
   ],
   "outputs": [
    {
     "output_type": "stream",
     "name": "stdout",
     "text": [
      "b'Lorem Ipsum\\xc2\\xa0is simply dummy text of the printing and typesetting industry. Lorem Ipsum has been the industry\\'s standard dummy text ever since the 1500s, when an unknown printer took a galley of type and scrambled it to make a type specimen book. It has survived not only five centuries, but also the leap into electronic typesetting, remaining essentially unchanged. It was popularised in the 1960s with the release of Letraset sheets containing Lorem Ipsum passages, and more recently with desktop publishing software like Aldus PageMaker including versions of Lorem Ipsum.\\n\\nContrary to popular belief, Lorem Ipsum is not simply random text. It has roots in a piece of classical Latin literature from 45 BC, making it over 2000 years old. Richard McClintock, a Latin professor at Hampden-Sydney College in Virginia, looked up one of the more obscure Latin words, consectetur, from a Lorem Ipsum passage, and going through the cites of the word in classical literature, discovered the undoubtable source. Lorem Ipsum comes from sections 1.10.32 and 1.10.33 of \"de Finibus Bonorum et Malorum\" (The Extremes of Good and Evil) by Cicero, written in 45 BC. This book is a treatise on the theory of ethics, very popular during the Renaissance. The first line of Lorem Ipsum, \"Lorem ipsum dolor sit amet.\", comes from a line in section 1.10.32.\\n\\nThe standard chunk of Lorem Ipsum used since the 1500s is reproduced below for those interested. Sections 1.10.32 and 1.10.33 from \"de Finibus Bonorum et Malorum\" by Cicero are also reproduced in their exact original form, accompanied by English versions from the 1914 translation by H. Rackham.\\n\\nIt is a long established fact that a reader will be distracted by the readable content of a page when looking at its layout. The point of using Lorem Ipsum is that it has a more-or-less normal distribution of letters, as opposed to using \\'Content here, content here\\', making it look like readable English. Many desktop publishing packages and web page editors now use Lorem Ipsum as their default model text, and a search for \\'lorem ipsum\\' will uncover many web sites still in their infancy. Various versions have evolved over the years, sometimes by accident, sometimes on purpose (injected humour and the like).\\n\\nThere are many variations of passages of Lorem Ipsum available, but the majority have suffered alteration in some form, by injected humour, or randomised words which don\\'t look even slightly believable. If you are going to use a passage of Lorem Ipsum, you need to be sure there isn\\'t anything embarrassing hidden in the middle of text. All the Lorem Ipsum generators on the Internet tend to repeat predefined chunks as necessary, making this the first true generator on the Internet. It uses a dictionary of over 200 Latin words, combined with a handful of model sentence structures, to generate Lorem Ipsum which looks reasonable. The generated Lorem Ipsum is therefore always free from repetition, injected humour, or non-characteristic words etc.'\n"
     ]
    }
   ],
   "metadata": {}
  },
  {
   "cell_type": "code",
   "execution_count": 11,
   "source": [
    "[word for word in text.split() if word.startswith('i')]"
   ],
   "outputs": [
    {
     "output_type": "execute_result",
     "data": {
      "text/plain": [
       "['industry.',\n",
       " \"industry\\\\'s\",\n",
       " 'it',\n",
       " 'into',\n",
       " 'in',\n",
       " 'including',\n",
       " 'is',\n",
       " 'in',\n",
       " 'it',\n",
       " 'in',\n",
       " 'in',\n",
       " 'in',\n",
       " 'is',\n",
       " 'ipsum',\n",
       " 'in',\n",
       " 'is',\n",
       " 'interested.',\n",
       " 'in',\n",
       " 'is',\n",
       " 'its',\n",
       " 'is',\n",
       " 'it',\n",
       " 'it',\n",
       " \"ipsum\\\\'\",\n",
       " 'in',\n",
       " 'infancy.',\n",
       " 'in',\n",
       " 'injected',\n",
       " \"isn\\\\'t\",\n",
       " 'in',\n",
       " 'is',\n",
       " 'injected']"
      ]
     },
     "metadata": {},
     "execution_count": 11
    }
   ],
   "metadata": {}
  }
 ],
 "metadata": {
  "orig_nbformat": 4,
  "language_info": {
   "name": "python",
   "version": "3.8.5",
   "mimetype": "text/x-python",
   "codemirror_mode": {
    "name": "ipython",
    "version": 3
   },
   "pygments_lexer": "ipython3",
   "nbconvert_exporter": "python",
   "file_extension": ".py"
  },
  "kernelspec": {
   "name": "python3",
   "display_name": "Python 3.8.5 64-bit ('base': conda)"
  },
  "interpreter": {
   "hash": "cd8ac7ed5329ff1f59a8356dfddf06d159cf18414acbfd7b13d1d5cd1cbb5d7d"
  }
 },
 "nbformat": 4,
 "nbformat_minor": 2
}